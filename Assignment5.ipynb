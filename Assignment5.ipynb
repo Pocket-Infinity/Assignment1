{
 "cells": [
  {
   "cell_type": "code",
   "execution_count": null,
   "id": "b53bfd83",
   "metadata": {},
   "outputs": [],
   "source": [
    "1. What does an empty dictionary's code look like?\n",
    "ans){}"
   ]
  },
  {
   "cell_type": "code",
   "execution_count": null,
   "id": "c35cfed4",
   "metadata": {},
   "outputs": [],
   "source": [
    "2. What is the value of a dictionary value with the key 'foo' and the value 42?\n",
    "ans){'foo':42}"
   ]
  },
  {
   "cell_type": "code",
   "execution_count": null,
   "id": "2b53978d",
   "metadata": {},
   "outputs": [],
   "source": [
    "3.What is the most significant distinction between a dictionary and a list?\n",
    "ans)The items in dictionaries are accessed via keys whereas items in the list are accessed through their position."
   ]
  },
  {
   "cell_type": "code",
   "execution_count": null,
   "id": "f5c67223",
   "metadata": {},
   "outputs": [],
   "source": [
    "4)What happens if you try to access spam['foo'] if spam is {'bar': 100}?\n",
    "ans) Keyerror occurs"
   ]
  },
  {
   "cell_type": "code",
   "execution_count": null,
   "id": "d03a34ce",
   "metadata": {},
   "outputs": [],
   "source": [
    "5)If a dictionary is stored in spam, what is the difference between the expressions 'cat' in spam and 'cat' in spam.keys()\n",
    "ans) none"
   ]
  },
  {
   "cell_type": "code",
   "execution_count": null,
   "id": "47a20c35",
   "metadata": {},
   "outputs": [],
   "source": [
    "6)If a dictionary is stored in spam, what is the difference between the expressions 'cat' in spam and 'cat' in spam.values()?\n",
    "ans ) the former checks for the key whereas the latter 'cat' in spam.values() checks for the value \n",
    "which is being associated to the key"
   ]
  },
  {
   "cell_type": "code",
   "execution_count": null,
   "id": "eb4320db",
   "metadata": {},
   "outputs": [],
   "source": [
    "7) What is a shortcut for the following code?\n",
    "if 'color' not in spam:\n",
    "spam['color'] = 'black'\n",
    "ans)  spam.setdefault('color', 'black')"
   ]
  },
  {
   "cell_type": "code",
   "execution_count": null,
   "id": "5eaff7eb",
   "metadata": {},
   "outputs": [],
   "source": [
    "8) How do you \"pretty print\" dictionary values using which module and function?\n",
    "ans)pprint.pprint()"
   ]
  }
 ],
 "metadata": {
  "kernelspec": {
   "display_name": "Python 3",
   "language": "python",
   "name": "python3"
  },
  "language_info": {
   "codemirror_mode": {
    "name": "ipython",
    "version": 3
   },
   "file_extension": ".py",
   "mimetype": "text/x-python",
   "name": "python",
   "nbconvert_exporter": "python",
   "pygments_lexer": "ipython3",
   "version": "3.8.8"
  }
 },
 "nbformat": 4,
 "nbformat_minor": 5
}
