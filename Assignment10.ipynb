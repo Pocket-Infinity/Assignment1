{
 "cells": [
  {
   "cell_type": "code",
   "execution_count": null,
   "id": "0bedcbe4",
   "metadata": {},
   "outputs": [],
   "source": [
    "1) How do you distinguish between shutil.copy() and shutil.copytree()?\n",
    "ans) shutil.copy() will copy a single file\n",
    "whereas shutil.copytree() will copy an entire folder, along with all its contents."
   ]
  },
  {
   "cell_type": "code",
   "execution_count": null,
   "id": "dd1b1944",
   "metadata": {},
   "outputs": [],
   "source": [
    "2) What function is used to rename files??\n",
    "ans) rename() method in Python is used to rename a file or directory"
   ]
  },
  {
   "cell_type": "code",
   "execution_count": null,
   "id": "d8fd74c3",
   "metadata": {},
   "outputs": [],
   "source": [
    "3)What is the difference between the delete functions in the send2trash and shutil modules?\n",
    "ans)The send2trash functions will move a file/folder to the recycle bin,\n",
    "whereas shutil functions will permanently delete the respective files/folders."
   ]
  },
  {
   "cell_type": "code",
   "execution_count": null,
   "id": "8fe0f1d4",
   "metadata": {},
   "outputs": [],
   "source": [
    "4)ZipFile objects have a close() method just like File objects’ close() method. What ZipFile method is\n",
    "equivalent to File objects’ open() method?\n",
    "ans)The zipfile.ZipFile() function is equivalent to the open() function."
   ]
  },
  {
   "cell_type": "code",
   "execution_count": null,
   "id": "884b55b2",
   "metadata": {},
   "outputs": [],
   "source": [
    "5)Create a programme that searches a folder tree for files with a certain file extension (such as .pdf\n",
    "or .jpg). Copy these files from whatever location they are in to a new folder.\n",
    "\n",
    "ans)\n",
    "import os, shutil\n",
    "\n",
    "def selectiveCopy(folder, extensions, destFolder):\n",
    "\tfolder = os.path.abspath(folder)\n",
    "\tdestFolder = os.path.abspath(destFolder)\n",
    "\tprint('Looking in', folder, 'for files with extensions of', ', '.join(extensions))\n",
    "\tfor foldername, subfolders, filenames in os.walk(folder):\n",
    "\t\tfor filename in filenames:\n",
    "\t\t\tname, extension = os.path.splitext(filename)\n",
    "\t\t\tif extension in extensions:\n",
    "\t\t\t\tfileAbsPath = foldername + os.path.sep + filename\n",
    "\t\t\t\tprint('Coping', fileAbsPath, 'to', destFolder)\n",
    "\t\t\t\tshutil.copy(fileAbsPath, destFolder)\n",
    "\n",
    "extensions = ['.pdf', '.jpg']\n",
    "folder = 'randomFolder'\n",
    "destFolder = 'selectiveFolder'\n",
    "selectiveCopy(folder, extensions, destFolder)"
   ]
  }
 ],
 "metadata": {
  "kernelspec": {
   "display_name": "Python 3",
   "language": "python",
   "name": "python3"
  },
  "language_info": {
   "codemirror_mode": {
    "name": "ipython",
    "version": 3
   },
   "file_extension": ".py",
   "mimetype": "text/x-python",
   "name": "python",
   "nbconvert_exporter": "python",
   "pygments_lexer": "ipython3",
   "version": "3.8.8"
  }
 },
 "nbformat": 4,
 "nbformat_minor": 5
}
