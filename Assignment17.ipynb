{
 "cells": [
  {
   "cell_type": "code",
   "execution_count": null,
   "id": "254c8d3c",
   "metadata": {},
   "outputs": [],
   "source": [
    "1. Assign the value 7 to the variable guess_me. Then, write the conditional tests (if, else, and elif)\n",
    "to print the string 'too low' if guess_me is less than 7, 'too high' if greater than 7, and 'just right'if equal to 7.\n",
    "ans)\n",
    "    guess_me = int(input(\"enter value : \"))\n",
    "        if guess_me == 7 :\n",
    "            print('Just Right')\n",
    "        elif guess_me > 7 :\n",
    "            print(\"Too High\")\n",
    "        else:\n",
    "            print('Too Low')"
   ]
  },
  {
   "cell_type": "code",
   "execution_count": null,
   "id": "78eb7aa9",
   "metadata": {},
   "outputs": [],
   "source": [
    "2. Assign the value 7 to the variable guess_me and the value 1 to the variable start. Write a while loop that compares star\n",
    "t with guess_me. Print too low if start is less than guess me. If start equals guess_me, print 'found it!' and exit the loop. \n",
    "If start is greater than guess_me, print 'oops' and exit the loop. Increment start at the end of the loop.\n",
    "\n",
    "ans)\n",
    "guess_me = 7\n",
    "start = 1\n",
    "\n",
    "while True:\n",
    "    if start < guess_me:\n",
    "        print('too low')\n",
    "    elif start == guess_me:\n",
    "        print('found it!')\n",
    "        break\n",
    "    else:\n",
    "        print('oops')\n",
    "        break\n",
    "    start += 1"
   ]
  },
  {
   "cell_type": "code",
   "execution_count": null,
   "id": "b5b385c9",
   "metadata": {},
   "outputs": [],
   "source": [
    "3. Print the following values of the list [3, 2, 1, 0] using a for loop.\n",
    "ans)\n",
    "lst = [3,2,1,0]\n",
    "for i in lst:\n",
    "    print(i)"
   ]
  },
  {
   "cell_type": "code",
   "execution_count": null,
   "id": "345b1b2a",
   "metadata": {},
   "outputs": [],
   "source": [
    "4. Use a list comprehension to make a list of the even numbers in range(10)\n",
    "ans)even = [item for item in range(10) if item%2==0]"
   ]
  },
  {
   "cell_type": "code",
   "execution_count": null,
   "id": "d1d9dc5c",
   "metadata": {},
   "outputs": [],
   "source": [
    "5. Use a dictionary comprehension to create the dictionary squares. Use range(10) to return the keys, and \n",
    "use the square of each key as its value.\n",
    "ans) squares = {num: num * num for num in range(10)}"
   ]
  },
  {
   "cell_type": "code",
   "execution_count": null,
   "id": "57b8fbcd",
   "metadata": {},
   "outputs": [],
   "source": [
    "6. Construct the set odd from the odd numbers in the range using a set comprehension (10).\n",
    "ans) odd = {item for item in range(10) if item%2==1}"
   ]
  },
  {
   "cell_type": "code",
   "execution_count": null,
   "id": "24165d35",
   "metadata": {},
   "outputs": [],
   "source": [
    "7. Use a generator comprehension to return the string 'Got ' and a number for the numbers in range(10).\n",
    "Iterate through this by using a for loop.\n",
    "ans)\n",
    "string_generator = ('Got ' + str(num) for num in range(10))\n",
    "for item in string_generator:\n",
    "    print(item)"
   ]
  },
  {
   "cell_type": "code",
   "execution_count": null,
   "id": "54570bfc",
   "metadata": {},
   "outputs": [],
   "source": [
    "8. Define a function called good that returns the list ['Harry', 'Ron', 'Hermione'].\n",
    "ans) \n",
    "def retunList():\n",
    "    return ['Harry', 'Ron', 'Hermione']\n",
    "retunList()"
   ]
  },
  {
   "cell_type": "code",
   "execution_count": null,
   "id": "25ab1bf0",
   "metadata": {},
   "outputs": [],
   "source": [
    "9. Define a generator function called get_odds that returns the odd numbers from range(10). \n",
    "Use a for loop to find and print the third value returned.\n",
    "ans)\n",
    "def get_odds():\n",
    "    for number in range(1, 10, 2):\n",
    "         yield number\n",
    "count = 1\n",
    "for number in get_odds():\n",
    "    if count == 3:\n",
    "        print(\"The third odd number is\", number)\n",
    "        break\n",
    "    count += 1"
   ]
  },
  {
   "cell_type": "code",
   "execution_count": null,
   "id": "17a66d6f",
   "metadata": {},
   "outputs": [],
   "source": [
    "10. Define an exception called OopsException. Raise this exception to see what happens. Then write the code to catch this\n",
    "exception and print 'Caught an oops'.\n",
    "ans)\n",
    "class OopsException(Exception):\n",
    "    pass\n",
    "\n",
    "def raiseException(num):\n",
    "    if num < 0:\n",
    "        raise OopsException(num)\n",
    "\n",
    "try:\n",
    "    raiseException(-1)\n",
    "except OopsException as err:\n",
    "    print('Caught an oops')"
   ]
  },
  {
   "cell_type": "code",
   "execution_count": null,
   "id": "0257a4e9",
   "metadata": {},
   "outputs": [],
   "source": [
    "11. Use zip() to make a dictionary called movies that pairs these lists: titles = ['Creature of Habit', 'Crewel Fate'] and\n",
    "    plots = ['A nun turns into a monster', 'A haunted yarn shop'].\n",
    "ans)\n",
    "titles = ['Creature of Habit', 'Crewel Fate']\n",
    "plots = ['A nun turns into a monster', 'A haunted yarn shop']\n",
    "movies = dict(zip(titles, plots))\n",
    "print(movies)"
   ]
  }
 ],
 "metadata": {
  "kernelspec": {
   "display_name": "Python 3",
   "language": "python",
   "name": "python3"
  },
  "language_info": {
   "codemirror_mode": {
    "name": "ipython",
    "version": 3
   },
   "file_extension": ".py",
   "mimetype": "text/x-python",
   "name": "python",
   "nbconvert_exporter": "python",
   "pygments_lexer": "ipython3",
   "version": "3.8.8"
  }
 },
 "nbformat": 4,
 "nbformat_minor": 5
}
