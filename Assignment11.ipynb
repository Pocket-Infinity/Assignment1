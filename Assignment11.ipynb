{
 "cells": [
  {
   "cell_type": "code",
   "execution_count": null,
   "id": "5a224355",
   "metadata": {},
   "outputs": [],
   "source": [
    "1. Create an assert statement that throws an AssertionError if the variable spam is a negative\n",
    "integer.\n",
    "ans) assert spam < 0, 'The spam variable is negative'"
   ]
  },
  {
   "cell_type": "code",
   "execution_count": null,
   "id": "1497a4ca",
   "metadata": {},
   "outputs": [],
   "source": [
    "2. Write an assert statement that triggers an AssertionError if the variables eggs and bacon\n",
    "contain strings that are the same as each other, even if their cases are different (that is, 'hello' and \n",
    "'hello' are considered the same, and 'goodbye' and 'GOODbye' are also considered the same).\n",
    "ans) assert eggs.lower() != bacon.lower() 'The eggs and bacon variables are the same!'\n",
    "assert eggs.upper() != bacon.upper() 'The eggs and bacon variables are the same!'"
   ]
  },
  {
   "cell_type": "code",
   "execution_count": null,
   "id": "7ab4bb23",
   "metadata": {},
   "outputs": [],
   "source": [
    "3. Create an assert statement that throws an AssertionError every time.\n",
    "assert False, 'Trigger Assertion.'"
   ]
  },
  {
   "cell_type": "code",
   "execution_count": null,
   "id": "a8a148aa",
   "metadata": {},
   "outputs": [],
   "source": [
    "4. What are the two lines that must be present in your software in order to call logging.debug()?\n",
    "\n",
    "ans) t logging\n",
    "logging.basicConfig(level=logging.DEBUG, format=' %(asctime)s -%(levelname)s - %(message)s')"
   ]
  },
  {
   "cell_type": "code",
   "execution_count": null,
   "id": "6ea3c9e1",
   "metadata": {},
   "outputs": [],
   "source": [
    "5. What are the two lines that your program must have in order to have logging.debug() \n",
    "send a logging message to a file named programLog.txt?\n",
    "\n",
    "ans ) import logging\n",
    "logging.basicConfig(filename='programLog.txt', level=logging.DEBUG,format=' %(asctime)s - %(levelname)s - %(message)s')"
   ]
  },
  {
   "cell_type": "code",
   "execution_count": null,
   "id": "3e27ff12",
   "metadata": {},
   "outputs": [],
   "source": [
    "6. What are the five levels of logging?\n",
    "ans )DEBUG, INFO, WARNING, ERROR, and CRITICAL"
   ]
  },
  {
   "cell_type": "code",
   "execution_count": null,
   "id": "33842d28",
   "metadata": {},
   "outputs": [],
   "source": [
    "7. What line of code would you add to your software to disable all logging messages?\n",
    "ans)logging.disable(logging.CRITICAL)"
   ]
  },
  {
   "cell_type": "code",
   "execution_count": null,
   "id": "5d8a62b2",
   "metadata": {},
   "outputs": [],
   "source": [
    "8. Why is using logging messages better than using print() to display the same message?\n",
    "\n",
    "ans)Easy to see where and when a logging call is being made from.\n",
    "You can differentiate your logging based on severity."
   ]
  },
  {
   "cell_type": "code",
   "execution_count": null,
   "id": "5dae6733",
   "metadata": {},
   "outputs": [],
   "source": [
    "9. What are the differences between the Step Over, Step In, and Step Out buttons in the debugger?\n",
    "ans)The Step In button will move the debugger into a function call. The\n",
    "Step Over button will quickly execute the function call without stepping into it."
   ]
  },
  {
   "cell_type": "code",
   "execution_count": null,
   "id": "45c2162d",
   "metadata": {},
   "outputs": [],
   "source": [
    "10.After you click Continue, when will the debugger stop ?\n",
    "It will only stop when it reached the EOL or Breakpoint."
   ]
  },
  {
   "cell_type": "code",
   "execution_count": null,
   "id": "f23e7b44",
   "metadata": {},
   "outputs": [],
   "source": [
    "11. What is the concept of a breakpoint?\n",
    "ans )A breakpoint is a setting on a line of code that causes the debugger to\n",
    "pause when the program execution reaches the line."
   ]
  }
 ],
 "metadata": {
  "kernelspec": {
   "display_name": "Python 3",
   "language": "python",
   "name": "python3"
  },
  "language_info": {
   "codemirror_mode": {
    "name": "ipython",
    "version": 3
   },
   "file_extension": ".py",
   "mimetype": "text/x-python",
   "name": "python",
   "nbconvert_exporter": "python",
   "pygments_lexer": "ipython3",
   "version": "3.8.8"
  }
 },
 "nbformat": 4,
 "nbformat_minor": 5
}
