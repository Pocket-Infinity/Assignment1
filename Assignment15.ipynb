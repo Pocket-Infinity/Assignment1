{
 "cells": [
  {
   "cell_type": "code",
   "execution_count": null,
   "id": "542b6e60",
   "metadata": {},
   "outputs": [],
   "source": [
    "1. How many seconds are in an hour? Use the interactive interpreter as a calculator and multiply the number of seconds \n",
    "in a minute (60) by the number of minutes in an hour (also 60).\n",
    "ans)3600"
   ]
  },
  {
   "cell_type": "code",
   "execution_count": null,
   "id": "bff91163",
   "metadata": {},
   "outputs": [],
   "source": [
    "2. Assign the result from the previous task (seconds in an hour) to a variable called seconds_per_hour.\n",
    "ans) seconds_per_hour = 3600"
   ]
  },
  {
   "cell_type": "code",
   "execution_count": null,
   "id": "2d1cefad",
   "metadata": {},
   "outputs": [],
   "source": [
    "3. How many seconds do you think there are in a day? Make use of the variables seconds per hour and minutes per hour.\n",
    "ans)  seconds_per_hour * 24"
   ]
  },
  {
   "cell_type": "code",
   "execution_count": null,
   "id": "2f29d00b",
   "metadata": {},
   "outputs": [],
   "source": [
    "4. Calculate seconds per day again, but this time save the result in a variable called seconds_per_day\n",
    "ans) seconds_per_day = seconds_per_hour * 24"
   ]
  },
  {
   "cell_type": "code",
   "execution_count": null,
   "id": "d3a2ff41",
   "metadata": {},
   "outputs": [],
   "source": [
    "5. Divide seconds_per_day by seconds_per_hour. Use floating-point (/) division.\n",
    "ans)seconds_per_day / seconds_per_hour"
   ]
  },
  {
   "cell_type": "code",
   "execution_count": null,
   "id": "f4e8149e",
   "metadata": {},
   "outputs": [],
   "source": [
    "6. Divide seconds_per_day by seconds_per_hour, using integer (//) division. Did this number agree with the floating-point value from the previous question, \n",
    "aside from the final .0?\n",
    "ans) seconds_per_day // seconds_per_hour"
   ]
  },
  {
   "cell_type": "code",
   "execution_count": null,
   "id": "7bcbe07b",
   "metadata": {},
   "outputs": [],
   "source": [
    "7. Write a generator, genPrimes, that returns the sequence of prime numbers on successive calls to its next() \n",
    "method: 2, 3, 5, 7, 11, ...\n",
    "ans)def genPrimes():\n",
    "    primes = []\n",
    "    n = 2\n",
    "    last = n\n",
    "\n",
    "    while True:\n",
    "        for i in primes:\n",
    "            if n % i == 0:\n",
    "                n += 1\n",
    "                break\n",
    "\n",
    "        else:\n",
    "            primes.append(n)\n",
    "            last = n\n",
    "            n += 1\n",
    "            yield last"
   ]
  }
 ],
 "metadata": {
  "kernelspec": {
   "display_name": "Python 3",
   "language": "python",
   "name": "python3"
  },
  "language_info": {
   "codemirror_mode": {
    "name": "ipython",
    "version": 3
   },
   "file_extension": ".py",
   "mimetype": "text/x-python",
   "name": "python",
   "nbconvert_exporter": "python",
   "pygments_lexer": "ipython3",
   "version": "3.8.8"
  }
 },
 "nbformat": 4,
 "nbformat_minor": 5
}
