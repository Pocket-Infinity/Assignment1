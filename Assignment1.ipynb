{
 "cells": [
  {
   "cell_type": "code",
   "execution_count": null,
   "id": "ba18aaa9",
   "metadata": {},
   "outputs": [],
   "source": [
    " 1)In the below elements which of them are values or an expression? eg:- values can be integer or string and expressions will be mathematical operators.\n",
    "* \n",
    "'hello' -value\n",
    "-87.8   -value\n",
    "-       -expression\n",
    "/       -expression\n",
    "+   -    expression\n",
    "6      - value"
   ]
  },
  {
   "cell_type": "code",
   "execution_count": null,
   "id": "156635b5",
   "metadata": {},
   "outputs": [],
   "source": [
    "2) What is the difference between string and variable?\n",
    "\n",
    "ans )Variable is a container to hold values whereas string is a datatype which will placed in a variable"
   ]
  },
  {
   "cell_type": "code",
   "execution_count": null,
   "id": "4e09632a",
   "metadata": {},
   "outputs": [],
   "source": [
    "3)Describe three different data types.\n",
    "\n",
    "ans ) String : represents collection of one or more character\n",
    "Numeric : represnts data that has numeric value.These include integer , float and complex number\n",
    "list : ordered collection of data"
   ]
  },
  {
   "cell_type": "code",
   "execution_count": null,
   "id": "7272601f",
   "metadata": {},
   "outputs": [],
   "source": [
    "4)What is an expression made up of? What do all expressions do?\n",
    "\n",
    "ans ) It is made of variables, operations(matematical or logical) and value.They evaluate based on operator precedence \n",
    "to give a final result"
   ]
  },
  {
   "cell_type": "code",
   "execution_count": null,
   "id": "2a5a79e9",
   "metadata": {},
   "outputs": [],
   "source": [
    "5)This assignment statements, like spam = 10. What is the difference between an expression and a statement?\n",
    "\n",
    "ans) spam is a variable which is being assigned a value whereas expression needs to contain an operator to perform operations "
   ]
  },
  {
   "cell_type": "code",
   "execution_count": null,
   "id": "eb143978",
   "metadata": {},
   "outputs": [],
   "source": [
    "6)After running the following code, what does the variable bacon contain?\n",
    "bacon = 22\n",
    "bacon + 1\n",
    "\n",
    "ans) 22"
   ]
  },
  {
   "cell_type": "code",
   "execution_count": null,
   "id": "89c262d6",
   "metadata": {},
   "outputs": [],
   "source": [
    "7) What should the values of the following two terms be?\n",
    "'spam' + 'spamspam'\n",
    "'spam' * 3\n",
    "\n",
    "\n",
    "ans) spamspamspam for both"
   ]
  },
  {
   "cell_type": "code",
   "execution_count": null,
   "id": "d8de6432",
   "metadata": {},
   "outputs": [],
   "source": [
    "8) Why is eggs a valid variable name while 100 is invalid?\n",
    "    \n",
    "ans) A variable name should not begin with number but can contain numbers"
   ]
  },
  {
   "cell_type": "code",
   "execution_count": null,
   "id": "ccaa763a",
   "metadata": {},
   "outputs": [],
   "source": [
    "9) What three functions can be used to get the integer, floating-point number, or string version of a value?\n",
    "    \n",
    "ans ) The functions are : int() , float() , and str( )"
   ]
  },
  {
   "cell_type": "code",
   "execution_count": null,
   "id": "d7f09164",
   "metadata": {},
   "outputs": [],
   "source": [
    "10)Why does this expression cause an error? How can you fix it?\n",
    "'I have eaten ' + 99 + ' burritos.'\n",
    "\n",
    "ans ) 'I have eaten ' + str(99) + ' burritos.'"
   ]
  }
 ],
 "metadata": {
  "kernelspec": {
   "display_name": "Python 3",
   "language": "python",
   "name": "python3"
  },
  "language_info": {
   "codemirror_mode": {
    "name": "ipython",
    "version": 3
   },
   "file_extension": ".py",
   "mimetype": "text/x-python",
   "name": "python",
   "nbconvert_exporter": "python",
   "pygments_lexer": "ipython3",
   "version": "3.8.8"
  }
 },
 "nbformat": 4,
 "nbformat_minor": 5
}
