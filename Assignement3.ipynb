{
 "cells": [
  {
   "cell_type": "code",
   "execution_count": null,
   "id": "22b11ad4",
   "metadata": {},
   "outputs": [],
   "source": [
    "1)Why are functions advantageous to have in your programs? \n",
    "ans)It basically increases the readability of the program , It makes a given program simpler"
   ]
  },
  {
   "cell_type": "code",
   "execution_count": null,
   "id": "1489cae2",
   "metadata": {},
   "outputs": [],
   "source": [
    "2)When does the code in a function run: when it's specified or when it's called?\n",
    "When its being called"
   ]
  },
  {
   "cell_type": "code",
   "execution_count": null,
   "id": "0fe14443",
   "metadata": {},
   "outputs": [],
   "source": [
    "3)What statement creates a function?\n",
    "ans) Def Statement creats a function"
   ]
  },
  {
   "cell_type": "code",
   "execution_count": null,
   "id": "f7eefd5e",
   "metadata": {},
   "outputs": [],
   "source": [
    "4)What is the difference between a function and a function call?\n",
    "ans) A function is a specific set of code which only runs when it is called\n",
    "whereas a function call executes the given set of code in order to return a value"
   ]
  },
  {
   "cell_type": "code",
   "execution_count": null,
   "id": "6b110102",
   "metadata": {},
   "outputs": [],
   "source": [
    "5)How many global scopes are there in a Python program? How many local scopes?\n",
    "ans) One "
   ]
  },
  {
   "cell_type": "code",
   "execution_count": null,
   "id": "2e01f668",
   "metadata": {},
   "outputs": [],
   "source": [
    "6)What happens to variables in a local scope when the function call returns?\n",
    "The variables become undefined when the function call is returned"
   ]
  },
  {
   "cell_type": "code",
   "execution_count": null,
   "id": "550f7785",
   "metadata": {},
   "outputs": [],
   "source": [
    "7)What is the concept of a return value? Is it possible to have a return value in an expression?\n",
    "ans)A return is a value that a function returns to the programs when it completes its task.\n",
    "Yes its is possible.\n"
   ]
  },
  {
   "cell_type": "code",
   "execution_count": null,
   "id": "ac10cd56",
   "metadata": {},
   "outputs": [],
   "source": [
    "8)If a function does not have a return statement, what is the return value of a call to that function?\n",
    "ans)None"
   ]
  },
  {
   "cell_type": "code",
   "execution_count": null,
   "id": "a8254d0b",
   "metadata": {},
   "outputs": [],
   "source": [
    "9)How do you make a function variable refer to the global variable?\n",
    "ans)by using the global"
   ]
  },
  {
   "cell_type": "code",
   "execution_count": null,
   "id": "ff1a8e93",
   "metadata": {},
   "outputs": [],
   "source": [
    "10)What is the data type of None?\n",
    "ans)NoneType\n"
   ]
  },
  {
   "cell_type": "code",
   "execution_count": null,
   "id": "57abbc2c",
   "metadata": {},
   "outputs": [],
   "source": [
    "11)What does the sentence import areallyourpetsnamederic do?\n",
    "ans)rts the module of the respective name"
   ]
  },
  {
   "cell_type": "code",
   "execution_count": null,
   "id": "ab3c0cdb",
   "metadata": {},
   "outputs": [],
   "source": [
    "12)If you had a bacon() feature in a spam module, what would you call it after importing spam?\n",
    "ans)spam.bacon()"
   ]
  },
  {
   "cell_type": "code",
   "execution_count": null,
   "id": "a9433582",
   "metadata": {},
   "outputs": [],
   "source": [
    "13) What can you do to save a programme from crashing if it encounters an error?\n",
    "ans) use of exception statements. try and except"
   ]
  },
  {
   "cell_type": "code",
   "execution_count": null,
   "id": "7c1c655b",
   "metadata": {},
   "outputs": [],
   "source": [
    "14)What is the purpose of the try clause? What is the purpose of the except clause?\n",
    "ans)\n",
    "The try clause lets you test a block of code for errors.\n",
    "The except block lets you handle the error."
   ]
  }
 ],
 "metadata": {
  "kernelspec": {
   "display_name": "Python 3",
   "language": "python",
   "name": "python3"
  },
  "language_info": {
   "codemirror_mode": {
    "name": "ipython",
    "version": 3
   },
   "file_extension": ".py",
   "mimetype": "text/x-python",
   "name": "python",
   "nbconvert_exporter": "python",
   "pygments_lexer": "ipython3",
   "version": "3.8.8"
  }
 },
 "nbformat": 4,
 "nbformat_minor": 5
}
