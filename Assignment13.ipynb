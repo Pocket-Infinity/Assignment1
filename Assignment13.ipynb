{
 "cells": [
  {
   "cell_type": "code",
   "execution_count": null,
   "id": "4256d522",
   "metadata": {},
   "outputs": [],
   "source": [
    "1. What advantages do Excel spreadsheets have over CSV spreadsheets?\n",
    "ans ) In Excel, spreadsheets can have values of data types other than strings; cells can have different fonts, \n",
    "sizes, or color settings; cells can have varying widths and heights; adjacent cells can be merged; and you\n",
    "can embed images and charts."
   ]
  },
  {
   "cell_type": "code",
   "execution_count": null,
   "id": "169d5e8f",
   "metadata": {},
   "outputs": [],
   "source": [
    "2.What do you pass to csv.reader() and csv.writer() to create reader and writer objects? \n",
    "ans ) You pass a File object, obtained from a call to open()"
   ]
  },
  {
   "cell_type": "code",
   "execution_count": null,
   "id": "722c48c5",
   "metadata": {},
   "outputs": [],
   "source": [
    "3. What modes do File objects for reader and writer objects need to be opened in?\n",
    "ans ) File objects need to be opened in read-binary ('rb') for reader objects\n",
    "and write-binary ('wb') for writer objects."
   ]
  },
  {
   "cell_type": "code",
   "execution_count": null,
   "id": "65ae27b1",
   "metadata": {},
   "outputs": [],
   "source": [
    "4. What method takes a list argument and writes it to a CSV file?\n",
    "ans ) writerow()"
   ]
  },
  {
   "cell_type": "code",
   "execution_count": null,
   "id": "4fb40657",
   "metadata": {},
   "outputs": [],
   "source": [
    "5. What do the keyword arguments delimiter and line terminator do?\n",
    "ans ) The delimiter argument changes the string used to separate cells in a row. The lineterminator argument changes \n",
    "the string used to separate rows."
   ]
  },
  {
   "cell_type": "code",
   "execution_count": null,
   "id": "35feaf15",
   "metadata": {},
   "outputs": [],
   "source": [
    "6. What function takes a string of JSON data and returns a Python data structure?\n",
    "ans ) json.loads()"
   ]
  },
  {
   "cell_type": "code",
   "execution_count": null,
   "id": "ee9de879",
   "metadata": {},
   "outputs": [],
   "source": [
    "7. What function takes a Python data structure and returns a string of JSON data?\n",
    "ans ) json.dumps()"
   ]
  }
 ],
 "metadata": {
  "kernelspec": {
   "display_name": "Python 3",
   "language": "python",
   "name": "python3"
  },
  "language_info": {
   "codemirror_mode": {
    "name": "ipython",
    "version": 3
   },
   "file_extension": ".py",
   "mimetype": "text/x-python",
   "name": "python",
   "nbconvert_exporter": "python",
   "pygments_lexer": "ipython3",
   "version": "3.8.8"
  }
 },
 "nbformat": 4,
 "nbformat_minor": 5
}
