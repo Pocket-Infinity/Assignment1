{
 "cells": [
  {
   "cell_type": "code",
   "execution_count": null,
   "id": "70f4453a",
   "metadata": {},
   "outputs": [],
   "source": [
    "1. Create a list called years_list, starting with the year of your birth, and each year thereafter until the \n",
    "year of your fifth birthday. For example, if you were born in 1980. the list would be years_list = [1980, 1981, 1982, \n",
    "                                                                                                    1983, 1984, 1985].\n",
    "ans) years_list = [i for i in range(1997,1997+6)]\n",
    "years_list"
   ]
  },
  {
   "cell_type": "code",
   "execution_count": null,
   "id": "f365a995",
   "metadata": {},
   "outputs": [],
   "source": [
    "2. In which year in years_list was your third birthday? Remember, you were 0 years of age for your first year.\n",
    "ans)years_list[3]"
   ]
  },
  {
   "cell_type": "code",
   "execution_count": null,
   "id": "c62fe552",
   "metadata": {},
   "outputs": [],
   "source": [
    "3.In the years list, which year were you the oldest?\n",
    "ans)max(years_list)"
   ]
  },
  {
   "cell_type": "code",
   "execution_count": null,
   "id": "fb3aae2c",
   "metadata": {},
   "outputs": [],
   "source": [
    "4. Make a list called things with these three strings as elements: \"mozzarella\", \"cinderella\", \"salmonella\".\n",
    "ans)things = list(['mozzarella', 'cinderella','salmonella'])\n",
    "things"
   ]
  },
  {
   "cell_type": "code",
   "execution_count": null,
   "id": "cf9da552",
   "metadata": {},
   "outputs": [],
   "source": [
    "5. Capitalize the element in things that refers to a person and then print the list. Did it change the element in the list?\n",
    "ans) for i in things:\n",
    "    print(i.capitalize())\n",
    "things"
   ]
  },
  {
   "cell_type": "code",
   "execution_count": null,
   "id": "2f46b81e",
   "metadata": {},
   "outputs": [],
   "source": [
    "6. Make a surprise list with the elements \"Groucho,\" \"Chico,\" and \"Harpo.\"\n",
    "ans)surprise_list = [\"Groucho\", \"Chico\", \"Harpo\"]\n",
    "surprise_list"
   ]
  },
  {
   "cell_type": "code",
   "execution_count": null,
   "id": "a5439f8b",
   "metadata": {},
   "outputs": [],
   "source": [
    "7. Lowercase the last element of the surprise list, reverse it, and then capitalize it.\n",
    "ans)surprise_list[-1].lower()\n",
    "surprise_list[-1][::-1]\n",
    "surprise_list[-1][::-1].upper()"
   ]
  },
  {
   "cell_type": "code",
   "execution_count": null,
   "id": "28e11d1b",
   "metadata": {},
   "outputs": [],
   "source": [
    "8. Make an English-to-French dictionary called e2f and print it. Here are your starter words: dog is chien, \n",
    "    cat is chat, and walrus is morse. \n",
    "ans)e2f = {'dog':'chien','cat':'chat','walrus':'morse'}"
   ]
  },
  {
   "cell_type": "code",
   "execution_count": null,
   "id": "e993e5df",
   "metadata": {},
   "outputs": [],
   "source": [
    "9. Write the French word for walrus in your three-word dictionary e2f.\n",
    "ans)e2f['walrus']"
   ]
  },
  {
   "cell_type": "code",
   "execution_count": null,
   "id": "a0a0c3df",
   "metadata": {},
   "outputs": [],
   "source": [
    "10. Make a French-to-English dictionary called f2e from e2f. Use the items method.\n",
    "ans)f2e = dict((key,value) for value,key in e2f.items())"
   ]
  },
  {
   "cell_type": "code",
   "execution_count": null,
   "id": "5d6f4f3f",
   "metadata": {},
   "outputs": [],
   "source": [
    "11. Print the English version of the French word chien using f2e.\n",
    "ans) f2e['chien']"
   ]
  },
  {
   "cell_type": "code",
   "execution_count": null,
   "id": "fa0fdf25",
   "metadata": {},
   "outputs": [],
   "source": [
    "12. Make and print a set of English words from the keys in e2f.\n",
    "ans) e2f.keys()"
   ]
  },
  {
   "cell_type": "code",
   "execution_count": null,
   "id": "7a9f5439",
   "metadata": {},
   "outputs": [],
   "source": [
    "13. Make a multilevel dictionary called life. Use these strings for the topmost keys: 'animals', 'plants', and 'other'. \n",
    "    Make the 'animals' key refer to another dictionary with the keys 'cats', 'octopi', and 'emus'. Make the 'cats' \n",
    "    key refer to a list of strings with the values 'Henri', 'Grumpy', and 'Lucy'. \n",
    "    Make all the other keys refer to empty dictionaries.\n",
    "ans) life ={'animals':{'cat':['Henri', 'Grumpy', 'Lucy'], 'octopi':'', 'emus':''},\n",
    "       'plants' :'',\n",
    "       'other' :'' }\n"
   ]
  },
  {
   "cell_type": "code",
   "execution_count": null,
   "id": "8edb83e6",
   "metadata": {},
   "outputs": [],
   "source": [
    "14. Print the top-level keys of life.\n",
    "ans)life.keys()"
   ]
  },
  {
   "cell_type": "code",
   "execution_count": null,
   "id": "bcbb3b60",
   "metadata": {},
   "outputs": [],
   "source": [
    "15. Print the keys for life['animals'].\n",
    "ans) life['animals'].keys()"
   ]
  },
  {
   "cell_type": "code",
   "execution_count": null,
   "id": "26ce8092",
   "metadata": {},
   "outputs": [],
   "source": [
    "16. Print the values for life['animals']['cats']\n",
    "ans)life['animals']['cat']"
   ]
  }
 ],
 "metadata": {
  "kernelspec": {
   "display_name": "Python 3",
   "language": "python",
   "name": "python3"
  },
  "language_info": {
   "codemirror_mode": {
    "name": "ipython",
    "version": 3
   },
   "file_extension": ".py",
   "mimetype": "text/x-python",
   "name": "python",
   "nbconvert_exporter": "python",
   "pygments_lexer": "ipython3",
   "version": "3.8.8"
  }
 },
 "nbformat": 4,
 "nbformat_minor": 5
}
