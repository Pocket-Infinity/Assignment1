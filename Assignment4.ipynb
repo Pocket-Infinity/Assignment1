{
 "cells": [
  {
   "cell_type": "code",
   "execution_count": null,
   "id": "09511be7",
   "metadata": {},
   "outputs": [],
   "source": [
    "1)What exactly is []?\n",
    "ans) It is basically an empty list"
   ]
  },
  {
   "cell_type": "code",
   "execution_count": null,
   "id": "a43a4828",
   "metadata": {},
   "outputs": [],
   "source": [
    "2) In a list of values stored in a variable called spam, how would you assign the value 'hello' as the third value? (Assume [2, 4, 6, 8, 10] are in spam.)\n",
    "ans)\n",
    "spam[2] = 'hello'"
   ]
  },
  {
   "cell_type": "code",
   "execution_count": null,
   "id": "78972f62",
   "metadata": {},
   "outputs": [],
   "source": [
    "3)What is the value of spam[int(int('3' * 2) / 11)]?\n",
    "ans)spam[3]\n",
    "which is d defined in the list"
   ]
  },
  {
   "cell_type": "code",
   "execution_count": null,
   "id": "78ef6ca6",
   "metadata": {},
   "outputs": [],
   "source": [
    "4)What is the value of spam[-1]\n",
    "ans)d"
   ]
  },
  {
   "cell_type": "code",
   "execution_count": null,
   "id": "55e62c5a",
   "metadata": {},
   "outputs": [],
   "source": [
    "5)What is the value of spam[:2]?\n",
    "ans) ['a','b']"
   ]
  },
  {
   "cell_type": "code",
   "execution_count": null,
   "id": "b3a34500",
   "metadata": {},
   "outputs": [],
   "source": [
    "6)Let's pretend bacon has the list [3.14, 'cat,' 11, 'cat,' True] for the next three questions.\n",
    "What is the value of bacon.index('cat')?\n",
    "ans)1\n"
   ]
  },
  {
   "cell_type": "code",
   "execution_count": null,
   "id": "812756ed",
   "metadata": {},
   "outputs": [],
   "source": [
    "7)How does bacon.append(99) change the look of the list value in bacon?\n",
    "ans)\n",
    "[3.14, 'cat', 11, 'cat', True, 99]"
   ]
  },
  {
   "cell_type": "code",
   "execution_count": null,
   "id": "60f5c191",
   "metadata": {},
   "outputs": [],
   "source": [
    "8)How does bacon.remove('cat') change the look of the list in bacon?\n",
    "ans)\n",
    "[3.14, 11, 'cat', True]"
   ]
  },
  {
   "cell_type": "code",
   "execution_count": null,
   "id": "97a53057",
   "metadata": {},
   "outputs": [],
   "source": [
    "9)What are the list concatenation and list replication operators?\n",
    "ans)\n",
    "+ for Concatenation\n",
    "* for Replication"
   ]
  },
  {
   "cell_type": "code",
   "execution_count": null,
   "id": "fbc7f2d2",
   "metadata": {},
   "outputs": [],
   "source": [
    "10)What is difference between the list methods append() and insert()?\n",
    "ans)\n",
    "Append function only adds value at the end of the list whereas insert function adds the value anywhere in the list"
   ]
  },
  {
   "cell_type": "code",
   "execution_count": null,
   "id": "f622691e",
   "metadata": {},
   "outputs": [],
   "source": [
    "11) What are the two methods for removing items from a list?\n",
    "ans)The remove() and del are the two methods"
   ]
  },
  {
   "cell_type": "code",
   "execution_count": null,
   "id": "f4cc7844",
   "metadata": {},
   "outputs": [],
   "source": [
    "12)Describe how list values and string values are identical.\n",
    "ans)They can be concatenated, they can be used in loops .Slicing and Indexing can be done."
   ]
  },
  {
   "cell_type": "code",
   "execution_count": null,
   "id": "ed93f21e",
   "metadata": {},
   "outputs": [],
   "source": [
    "13)What's the difference between tuples and lists?\n",
    "ans)Lists are mutable where values can be changed and are represented by () whereas Tuples are immutable\n",
    "values cannot be changed at all and they are represented by []."
   ]
  },
  {
   "cell_type": "code",
   "execution_count": null,
   "id": "63a6f2bc",
   "metadata": {},
   "outputs": [],
   "source": [
    "14)How do you type a tuple value that only contains the integer 42?\n",
    "ans)(42,)"
   ]
  },
  {
   "cell_type": "code",
   "execution_count": null,
   "id": "c48ab9b0",
   "metadata": {},
   "outputs": [],
   "source": [
    "15) How do you get a list value's tuple form? How do you get a tuple value's list form?\n",
    "ans ) They can be obtained through list() and tuple() functions"
   ]
  },
  {
   "cell_type": "code",
   "execution_count": null,
   "id": "11cac0db",
   "metadata": {},
   "outputs": [],
   "source": [
    "16)Variables that \"contain\" list values are not necessarily lists themselves. Instead, what do they contain?\n",
    "ans) They have references to the respective list values."
   ]
  },
  {
   "cell_type": "code",
   "execution_count": null,
   "id": "0942e545",
   "metadata": {},
   "outputs": [],
   "source": [
    "17) How do you distinguish between copy.copy() and copy.deepcopy()?\n",
    "ans)\n",
    "The copy.copy() function will do a shallow copy of a list where it creates a new object which store the reference of the \n",
    "original elements present in the list\n",
    "The copy.deepcopy() function will do a deep copy of a list wherein the copying occurs recursively."
   ]
  }
 ],
 "metadata": {
  "kernelspec": {
   "display_name": "Python 3",
   "language": "python",
   "name": "python3"
  },
  "language_info": {
   "codemirror_mode": {
    "name": "ipython",
    "version": 3
   },
   "file_extension": ".py",
   "mimetype": "text/x-python",
   "name": "python",
   "nbconvert_exporter": "python",
   "pygments_lexer": "ipython3",
   "version": "3.8.8"
  }
 },
 "nbformat": 4,
 "nbformat_minor": 5
}
