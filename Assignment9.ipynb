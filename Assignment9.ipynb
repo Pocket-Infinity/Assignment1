{
 "cells": [
  {
   "cell_type": "code",
   "execution_count": null,
   "id": "487c6083",
   "metadata": {},
   "outputs": [],
   "source": [
    "1) To what does a relative path refer?\n",
    "ans) Relative paths refer to the current working directory."
   ]
  },
  {
   "cell_type": "code",
   "execution_count": null,
   "id": "2f051bd8",
   "metadata": {},
   "outputs": [],
   "source": [
    "2. What does an absolute path start with your operating system?\n",
    "ans) Absolute paths start with the root folder, such as / or C:\\.\n",
    "    "
   ]
  },
  {
   "cell_type": "code",
   "execution_count": null,
   "id": "7a0fa0d5",
   "metadata": {},
   "outputs": [],
   "source": [
    "3 ) What do the functions os.getcwd() and os.chdir() do?\n",
    "ans) os.getcwd() function returns the current working directory. \n",
    "     os.chdir() function changes the current working directory."
   ]
  },
  {
   "cell_type": "code",
   "execution_count": null,
   "id": "54011a5d",
   "metadata": {},
   "outputs": [],
   "source": [
    "4 ) What are the . and .. folders?\n",
    "ans) The . folder is the current folder, and .. is the parent folder."
   ]
  },
  {
   "cell_type": "code",
   "execution_count": null,
   "id": "ba6e06df",
   "metadata": {},
   "outputs": [],
   "source": [
    "5 ) In C:\\bacon\\eggs\\spam.txt, which part is the dir name, and which part is the base name?\n",
    "ans) C:\\bacon\\eggs is the dir name, while spam.txt is the base name."
   ]
  },
  {
   "cell_type": "code",
   "execution_count": null,
   "id": "06ccb92e",
   "metadata": {},
   "outputs": [],
   "source": [
    "6 ) What are the three “mode” arguments that can be passed to the open() function?\n",
    "ans ) the three modes are r , w ,a \n"
   ]
  },
  {
   "cell_type": "code",
   "execution_count": null,
   "id": "927f13ee",
   "metadata": {},
   "outputs": [],
   "source": [
    "7 ) What happens if an existing file is opened in write mode?\n",
    "ans )An existing file opened in write mode is erased and completely\n",
    "overwritten."
   ]
  },
  {
   "cell_type": "code",
   "execution_count": null,
   "id": "e5d83c9b",
   "metadata": {},
   "outputs": [],
   "source": [
    "8 ) How do you tell the difference between read() and readlines()?\n",
    "ans ) The read() method returns the file’s entire contents as a single string value.\n",
    "The readlines() method returns a list containing each line in the file as a list item."
   ]
  },
  {
   "cell_type": "code",
   "execution_count": null,
   "id": "9d08a3cb",
   "metadata": {},
   "outputs": [],
   "source": [
    "9 ) What data structure does a shelf value resemble?\n",
    "ans ) It resembles Dictionary Data Structure"
   ]
  }
 ],
 "metadata": {
  "kernelspec": {
   "display_name": "Python 3",
   "language": "python",
   "name": "python3"
  },
  "language_info": {
   "codemirror_mode": {
    "name": "ipython",
    "version": 3
   },
   "file_extension": ".py",
   "mimetype": "text/x-python",
   "name": "python",
   "nbconvert_exporter": "python",
   "pygments_lexer": "ipython3",
   "version": "3.8.8"
  }
 },
 "nbformat": 4,
 "nbformat_minor": 5
}
