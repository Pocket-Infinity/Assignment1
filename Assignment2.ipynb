{
 "cells": [
  {
   "cell_type": "code",
   "execution_count": null,
   "id": "97b0079c",
   "metadata": {},
   "outputs": [],
   "source": [
    "1) There are two boolean data types \n",
    "True\n",
    "False\n",
    "\n"
   ]
  },
  {
   "cell_type": "code",
   "execution_count": null,
   "id": "e6ccadcf",
   "metadata": {},
   "outputs": [],
   "source": [
    "2) The three different types Boolean Operators: and, or, and not"
   ]
  },
  {
   "cell_type": "code",
   "execution_count": null,
   "id": "590753b0",
   "metadata": {},
   "outputs": [],
   "source": [
    "3)\n",
    "The truth tables are :\n",
    "AND Truth Table\n",
    "x|y|Returns\n",
    "True|True|True\n",
    "True|False|False\n",
    "False|True|False\n",
    "False|False|False\n",
    "OR Truth Table\n",
    "x|y|Returns\n",
    "True|True|True\n",
    "True|False|True\n",
    "False|True|True\n",
    "False|False|False\n",
    "NOT Truth Table\n",
    "not|x|Returns\n",
    "not|True|False\n",
    "not|False|True"
   ]
  },
  {
   "cell_type": "code",
   "execution_count": null,
   "id": "d668005f",
   "metadata": {},
   "outputs": [],
   "source": [
    "4)\n",
    "a)False\n",
    "b)False\n",
    "c)True\n",
    "d)False\n",
    "e)False\n",
    "f)True"
   ]
  },
  {
   "cell_type": "code",
   "execution_count": null,
   "id": "ffaef868",
   "metadata": {},
   "outputs": [],
   "source": [
    "5)The essential comparision operators are :\n",
    "Less than ( < )\n",
    "Less than or equal to (<=)\n",
    "Greater than (>)\n",
    "Greater than or equal to (>=)\n",
    "Equal to ( == )\n",
    "Not equal to ( != )"
   ]
  },
  {
   "cell_type": "code",
   "execution_count": null,
   "id": "d435a407",
   "metadata": {},
   "outputs": [],
   "source": [
    "6)Assignment Operator use = . Its used when assigned a value to a variable.eg :a=10\n",
    "where equals to uses == . Its used when comparing two values. eg : if ((a+3)==(b+2))"
   ]
  },
  {
   "cell_type": "code",
   "execution_count": null,
   "id": "698cf895",
   "metadata": {},
   "outputs": [],
   "source": [
    "7)ham\n",
    "spam\n",
    "spam"
   ]
  },
  {
   "cell_type": "code",
   "execution_count": null,
   "id": "bdddcc01",
   "metadata": {},
   "outputs": [],
   "source": [
    "8)\n",
    "spam = 5\n",
    "if spam ==0 :\n",
    "    print('Hello')\n",
    "if spam ==1:\n",
    "    print('Howdy')\n",
    "else:\n",
    "    print('Greetings')"
   ]
  },
  {
   "cell_type": "code",
   "execution_count": null,
   "id": "8db35ce5",
   "metadata": {},
   "outputs": [],
   "source": [
    "9) The key is  CTRL + C"
   ]
  },
  {
   "cell_type": "code",
   "execution_count": null,
   "id": "c0671f38",
   "metadata": {},
   "outputs": [],
   "source": [
    "10)break : This statement basically eliminates the execution of remaining iteration of loop\n",
    "\n",
    "whereas continue will terminate only the current iteration of loop.\n",
    "\n",
    "Break can be identified when a program is completely terminated from the loop and the remainnig iterations along with it will \n",
    "be skipped."
   ]
  },
  {
   "cell_type": "code",
   "execution_count": null,
   "id": "b24b22df",
   "metadata": {},
   "outputs": [],
   "source": [
    "11) \n",
    "a)0 to 9\n",
    "b)10 to 19\n",
    "c)0 to 9\n"
   ]
  },
  {
   "cell_type": "code",
   "execution_count": null,
   "id": "4406030c",
   "metadata": {},
   "outputs": [],
   "source": [
    "12) for x in range(1,11):\n",
    "  print(x)\n",
    "i = 1\n",
    "while i < 11:\n",
    "  print(i)\n",
    "  i += 1"
   ]
  },
  {
   "cell_type": "code",
   "execution_count": null,
   "id": "49e70ee5",
   "metadata": {},
   "outputs": [],
   "source": [
    "13)spam.bacon()"
   ]
  }
 ],
 "metadata": {
  "kernelspec": {
   "display_name": "Python 3",
   "language": "python",
   "name": "python3"
  },
  "language_info": {
   "codemirror_mode": {
    "name": "ipython",
    "version": 3
   },
   "file_extension": ".py",
   "mimetype": "text/x-python",
   "name": "python",
   "nbconvert_exporter": "python",
   "pygments_lexer": "ipython3",
   "version": "3.8.8"
  }
 },
 "nbformat": 4,
 "nbformat_minor": 5
}
